{
  "nbformat": 4,
  "nbformat_minor": 0,
  "metadata": {
    "colab": {
      "name": "get_hparams.ipynb",
      "provenance": [],
      "include_colab_link": true
    },
    "kernelspec": {
      "name": "python3",
      "display_name": "Python 3"
    }
  },
  "cells": [
    {
      "cell_type": "markdown",
      "metadata": {
        "id": "view-in-github",
        "colab_type": "text"
      },
      "source": [
        "<a href=\"https://colab.research.google.com/github/AlkaidCheng/example/blob/master/get_hparams.ipynb\" target=\"_parent\"><img src=\"https://colab.research.google.com/assets/colab-badge.svg\" alt=\"Open In Colab\"/></a>"
      ]
    },
    {
      "cell_type": "code",
      "metadata": {
        "id": "oG0sbJnphYSe",
        "colab_type": "code",
        "outputId": "fd271d48-d6d6-41f7-f579-97d699248286",
        "colab": {
          "base_uri": "https://localhost:8080/",
          "height": 1000
        }
      },
      "source": [
        "! pip install ray[tune]"
      ],
      "execution_count": 1,
      "outputs": [
        {
          "output_type": "stream",
          "text": [
            "Collecting ray[tune]\n",
            "\u001b[?25l  Downloading https://files.pythonhosted.org/packages/a8/47/7bc688d2c06c1d0fbd388b4e2725028b2792e1f652a28b848462a724c972/ray-0.8.2-cp36-cp36m-manylinux1_x86_64.whl (19.1MB)\n",
            "\u001b[K     |████████████████████████████████| 19.1MB 27.9MB/s \n",
            "\u001b[?25hRequirement already satisfied: click in /usr/local/lib/python3.6/dist-packages (from ray[tune]) (7.0)\n",
            "Requirement already satisfied: six>=1.0.0 in /usr/local/lib/python3.6/dist-packages (from ray[tune]) (1.12.0)\n",
            "Collecting aiohttp\n",
            "\u001b[?25l  Downloading https://files.pythonhosted.org/packages/7c/39/7eb5f98d24904e0f6d3edb505d4aa60e3ef83c0a58d6fe18244a51757247/aiohttp-3.6.2-cp36-cp36m-manylinux1_x86_64.whl (1.2MB)\n",
            "\u001b[K     |████████████████████████████████| 1.2MB 45.5MB/s \n",
            "\u001b[?25hRequirement already satisfied: packaging in /usr/local/lib/python3.6/dist-packages (from ray[tune]) (20.1)\n",
            "Requirement already satisfied: pytest in /usr/local/lib/python3.6/dist-packages (from ray[tune]) (3.6.4)\n",
            "Collecting colorama\n",
            "  Downloading https://files.pythonhosted.org/packages/c9/dc/45cdef1b4d119eb96316b3117e6d5708a08029992b2fee2c143c7a0a5cc5/colorama-0.4.3-py2.py3-none-any.whl\n",
            "Requirement already satisfied: pyyaml in /usr/local/lib/python3.6/dist-packages (from ray[tune]) (3.13)\n",
            "Requirement already satisfied: filelock in /usr/local/lib/python3.6/dist-packages (from ray[tune]) (3.0.12)\n",
            "Requirement already satisfied: protobuf>=3.8.0 in /usr/local/lib/python3.6/dist-packages (from ray[tune]) (3.10.0)\n",
            "Requirement already satisfied: cloudpickle in /usr/local/lib/python3.6/dist-packages (from ray[tune]) (1.2.2)\n",
            "Collecting py-spy>=0.2.0\n",
            "\u001b[?25l  Downloading https://files.pythonhosted.org/packages/8e/a7/ab45c9ee3c4654edda3efbd6b8e2fa4962226718a7e3e3be6e3926bf3617/py_spy-0.3.3-py2.py3-none-manylinux1_x86_64.whl (2.9MB)\n",
            "\u001b[K     |████████████████████████████████| 2.9MB 43.3MB/s \n",
            "\u001b[?25hRequirement already satisfied: grpcio in /usr/local/lib/python3.6/dist-packages (from ray[tune]) (1.27.1)\n",
            "Collecting funcsigs\n",
            "  Downloading https://files.pythonhosted.org/packages/69/cb/f5be453359271714c01b9bd06126eaf2e368f1fddfff30818754b5ac2328/funcsigs-1.0.2-py2.py3-none-any.whl\n",
            "Requirement already satisfied: jsonschema in /usr/local/lib/python3.6/dist-packages (from ray[tune]) (2.6.0)\n",
            "Collecting redis>=3.3.2\n",
            "\u001b[?25l  Downloading https://files.pythonhosted.org/packages/f0/05/1fc7feedc19c123e7a95cfc9e7892eb6cdd2e5df4e9e8af6384349c1cc3d/redis-3.4.1-py2.py3-none-any.whl (71kB)\n",
            "\u001b[K     |████████████████████████████████| 71kB 9.6MB/s \n",
            "\u001b[?25hRequirement already satisfied: google in /usr/local/lib/python3.6/dist-packages (from ray[tune]) (2.0.3)\n",
            "Requirement already satisfied: numpy>=1.16 in /usr/local/lib/python3.6/dist-packages (from ray[tune]) (1.17.5)\n",
            "Requirement already satisfied: tabulate; extra == \"tune\" in /usr/local/lib/python3.6/dist-packages (from ray[tune]) (0.8.6)\n",
            "Collecting tensorboardX; extra == \"tune\"\n",
            "\u001b[?25l  Downloading https://files.pythonhosted.org/packages/35/f1/5843425495765c8c2dd0784a851a93ef204d314fc87bcc2bbb9f662a3ad1/tensorboardX-2.0-py2.py3-none-any.whl (195kB)\n",
            "\u001b[K     |████████████████████████████████| 204kB 52.9MB/s \n",
            "\u001b[?25hRequirement already satisfied: chardet<4.0,>=2.0 in /usr/local/lib/python3.6/dist-packages (from aiohttp->ray[tune]) (3.0.4)\n",
            "Collecting yarl<2.0,>=1.0\n",
            "\u001b[?25l  Downloading https://files.pythonhosted.org/packages/95/8f/0209fc5d975f839344c33c822ff2f7ef80f6b1e984673a5a68f960bfa583/yarl-1.4.2-cp36-cp36m-manylinux1_x86_64.whl (252kB)\n",
            "\u001b[K     |████████████████████████████████| 256kB 52.4MB/s \n",
            "\u001b[?25hRequirement already satisfied: attrs>=17.3.0 in /usr/local/lib/python3.6/dist-packages (from aiohttp->ray[tune]) (19.3.0)\n",
            "Collecting multidict<5.0,>=4.5\n",
            "\u001b[?25l  Downloading https://files.pythonhosted.org/packages/30/2e/3ab2f1fb72571f75013db323a3799d505d99f3bc203513604f1ffb9b7858/multidict-4.7.5-cp36-cp36m-manylinux1_x86_64.whl (148kB)\n",
            "\u001b[K     |████████████████████████████████| 153kB 43.8MB/s \n",
            "\u001b[?25hRequirement already satisfied: typing-extensions>=3.6.5; python_version < \"3.7\" in /usr/local/lib/python3.6/dist-packages (from aiohttp->ray[tune]) (3.6.6)\n",
            "Collecting async-timeout<4.0,>=3.0\n",
            "  Downloading https://files.pythonhosted.org/packages/e1/1e/5a4441be21b0726c4464f3f23c8b19628372f606755a9d2e46c187e65ec4/async_timeout-3.0.1-py3-none-any.whl\n",
            "Collecting idna-ssl>=1.0; python_version < \"3.7\"\n",
            "  Downloading https://files.pythonhosted.org/packages/46/03/07c4894aae38b0de52b52586b24bf189bb83e4ddabfe2e2c8f2419eec6f4/idna-ssl-1.1.0.tar.gz\n",
            "Requirement already satisfied: pyparsing>=2.0.2 in /usr/local/lib/python3.6/dist-packages (from packaging->ray[tune]) (2.4.6)\n",
            "Requirement already satisfied: more-itertools>=4.0.0 in /usr/local/lib/python3.6/dist-packages (from pytest->ray[tune]) (8.2.0)\n",
            "Requirement already satisfied: setuptools in /usr/local/lib/python3.6/dist-packages (from pytest->ray[tune]) (45.2.0)\n",
            "Requirement already satisfied: py>=1.5.0 in /usr/local/lib/python3.6/dist-packages (from pytest->ray[tune]) (1.8.1)\n",
            "Requirement already satisfied: pluggy<0.8,>=0.5 in /usr/local/lib/python3.6/dist-packages (from pytest->ray[tune]) (0.7.1)\n",
            "Requirement already satisfied: atomicwrites>=1.0 in /usr/local/lib/python3.6/dist-packages (from pytest->ray[tune]) (1.3.0)\n",
            "Requirement already satisfied: beautifulsoup4 in /usr/local/lib/python3.6/dist-packages (from google->ray[tune]) (4.6.3)\n",
            "Requirement already satisfied: idna>=2.0 in /usr/local/lib/python3.6/dist-packages (from yarl<2.0,>=1.0->aiohttp->ray[tune]) (2.8)\n",
            "Building wheels for collected packages: idna-ssl\n",
            "  Building wheel for idna-ssl (setup.py) ... \u001b[?25l\u001b[?25hdone\n",
            "  Created wheel for idna-ssl: filename=idna_ssl-1.1.0-cp36-none-any.whl size=3162 sha256=588bc88c0f2907e1690897152445853060e93c992dfb4814019e8cf735ee1716\n",
            "  Stored in directory: /root/.cache/pip/wheels/d3/00/b3/32d613e19e08a739751dd6bf998cfed277728f8b2127ad4eb7\n",
            "Successfully built idna-ssl\n",
            "Installing collected packages: multidict, yarl, async-timeout, idna-ssl, aiohttp, colorama, py-spy, funcsigs, redis, tensorboardX, ray\n",
            "Successfully installed aiohttp-3.6.2 async-timeout-3.0.1 colorama-0.4.3 funcsigs-1.0.2 idna-ssl-1.1.0 multidict-4.7.5 py-spy-0.3.3 ray-0.8.2 redis-3.4.1 tensorboardX-2.0 yarl-1.4.2\n"
          ],
          "name": "stdout"
        }
      ]
    },
    {
      "cell_type": "code",
      "metadata": {
        "id": "wA_krXqJhbbm",
        "colab_type": "code",
        "colab": {}
      },
      "source": [
        "from ray import tune\n",
        "from ray.tune.suggest.variant_generator import generate_variants,flatten_resolved_vars\n",
        "import numpy as np"
      ],
      "execution_count": 0,
      "outputs": []
    },
    {
      "cell_type": "code",
      "metadata": {
        "id": "lfNvGKa2hc6p",
        "colab_type": "code",
        "colab": {}
      },
      "source": [
        "config={\n",
        "        \"alpha\": tune.sample_from(lambda spec: np.random.uniform(100)),\n",
        "        \"beta\":tune.sample_from(lambda spec: np.random.uniform(100)),\n",
        "        \"num_samples\" : 100\n",
        "    }"
      ],
      "execution_count": 0,
      "outputs": []
    },
    {
      "cell_type": "code",
      "metadata": {
        "id": "ukpvDkrvheDM",
        "colab_type": "code",
        "outputId": "374eb2e0-d852-4cd4-b2d9-f67004472959",
        "colab": {
          "base_uri": "https://localhost:8080/",
          "height": 1000
        }
      },
      "source": [
        "for _ in range(config.get(\"num_samples\", 1)):\n",
        "  for resolved_vars, _ in generate_variants(config):\n",
        "    hparams = flatten_resolved_vars(resolved_vars)\n",
        "    print(hparams)"
      ],
      "execution_count": 4,
      "outputs": [
        {
          "output_type": "stream",
          "text": [
            "{'alpha': 24.03081918779013, 'beta': 44.24465507877127}\n",
            "{'alpha': 57.43934165216105, 'beta': 93.33951976525734}\n",
            "{'alpha': 62.642234143592454, 'beta': 49.51775790927364}\n",
            "{'alpha': 78.16612182706551, 'beta': 59.38442854734332}\n",
            "{'alpha': 81.59974434757547, 'beta': 59.33122046208513}\n",
            "{'alpha': 61.79252996503724, 'beta': 31.062934163741872}\n",
            "{'alpha': 91.25341107001645, 'beta': 66.27182150035033}\n",
            "{'alpha': 36.04739474400829, 'beta': 31.495902083023992}\n",
            "{'alpha': 96.24951317717016, 'beta': 21.339614146059617}\n",
            "{'alpha': 92.57087226582189, 'beta': 83.19023534912192}\n",
            "{'alpha': 76.34604880635314, 'beta': 94.41129239411205}\n",
            "{'alpha': 71.7194419273928, 'beta': 19.861309535621146}\n",
            "{'alpha': 25.91484987808431, 'beta': 48.396382320976734}\n",
            "{'alpha': 10.439672738072247, 'beta': 91.268869721072}\n",
            "{'alpha': 36.34342524598523, 'beta': 63.330800709838265}\n",
            "{'alpha': 66.1391367527827, 'beta': 93.57552159814605}\n",
            "{'alpha': 23.96095879617168, 'beta': 63.04613557145272}\n",
            "{'alpha': 29.13101642371386, 'beta': 83.79417307370707}\n",
            "{'alpha': 24.2742555692909, 'beta': 90.47477774474604}\n",
            "{'alpha': 92.68755075707395, 'beta': 26.87266300835006}\n",
            "{'alpha': 80.57366401055971, 'beta': 46.45609132253897}\n",
            "{'alpha': 7.064374260806588, 'beta': 36.18925395344722}\n",
            "{'alpha': 4.434369691667712, 'beta': 83.32473899171548}\n",
            "{'alpha': 96.6344660951581, 'beta': 44.426802276635385}\n",
            "{'alpha': 94.70817404249493, 'beta': 39.40521709600998}\n",
            "{'alpha': 45.45909853283413, 'beta': 59.54930669710588}\n",
            "{'alpha': 41.24087284843928, 'beta': 21.30861733108165}\n",
            "{'alpha': 60.44232251118087, 'beta': 92.2391182158681}\n",
            "{'alpha': 97.69024768507819, 'beta': 60.99207142265221}\n",
            "{'alpha': 57.52417156579239, 'beta': 13.489857120956955}\n",
            "{'alpha': 27.41992152001302, 'beta': 60.49179991056861}\n",
            "{'alpha': 94.65149569809505, 'beta': 56.22380591102925}\n",
            "{'alpha': 14.33466061776528, 'beta': 10.521022298725697}\n",
            "{'alpha': 37.512460632721954, 'beta': 13.12552554419483}\n",
            "{'alpha': 92.4419855294346, 'beta': 19.578658115384613}\n",
            "{'alpha': 18.754364852091697, 'beta': 41.653760924509555}\n",
            "{'alpha': 82.41659872842804, 'beta': 38.03610818913347}\n",
            "{'alpha': 54.875638667343004, 'beta': 41.481286301050666}\n",
            "{'alpha': 71.20759218429261, 'beta': 53.767718847355724}\n",
            "{'alpha': 49.34102465442697, 'beta': 45.305711067856336}\n",
            "{'alpha': 75.8880933345823, 'beta': 90.41877066714406}\n",
            "{'alpha': 41.580161472439606, 'beta': 33.17236541857861}\n",
            "{'alpha': 79.40637746610707, 'beta': 23.44267868231617}\n",
            "{'alpha': 19.455717194967193, 'beta': 92.743006019928}\n",
            "{'alpha': 1.807039547002148, 'beta': 50.76164712021781}\n",
            "{'alpha': 98.49146238217268, 'beta': 76.29902240016594}\n",
            "{'alpha': 92.89080296274123, 'beta': 74.28447328216951}\n",
            "{'alpha': 49.87617195698299, 'beta': 60.90536821704805}\n",
            "{'alpha': 41.16187954164086, 'beta': 21.581567964478637}\n",
            "{'alpha': 22.463222481753803, 'beta': 99.36895200145283}\n",
            "{'alpha': 46.41712778780914, 'beta': 91.00877888556967}\n",
            "{'alpha': 31.301261686529784, 'beta': 52.44999336869959}\n",
            "{'alpha': 34.672104528975154, 'beta': 69.27018014772531}\n",
            "{'alpha': 43.71052415063591, 'beta': 36.80092994225703}\n",
            "{'alpha': 98.83152568923137, 'beta': 79.31828229685577}\n",
            "{'alpha': 27.267254178306032, 'beta': 9.472371956640075}\n",
            "{'alpha': 83.05977690134466, 'beta': 71.4038475011152}\n",
            "{'alpha': 95.39922901369555, 'beta': 63.763611147705944}\n",
            "{'alpha': 29.776840634650796, 'beta': 22.373245820423634}\n",
            "{'alpha': 66.55316791215503, 'beta': 31.98641919937529}\n",
            "{'alpha': 4.613641595319876, 'beta': 79.56332810014894}\n",
            "{'alpha': 44.07555944734327, 'beta': 11.197397713527963}\n",
            "{'alpha': 76.4085095965998, 'beta': 66.90300600974754}\n",
            "{'alpha': 12.319391208912904, 'beta': 12.15674789679629}\n",
            "{'alpha': 20.76472630022252, 'beta': 8.281087294157302}\n",
            "{'alpha': 48.322415241700824, 'beta': 60.938088957059406}\n",
            "{'alpha': 34.52905753715342, 'beta': 60.315898470816585}\n",
            "{'alpha': 87.42156742863844, 'beta': 1.5582948108189214}\n",
            "{'alpha': 68.63784977819887, 'beta': 95.1477109156762}\n",
            "{'alpha': 95.67915021485835, 'beta': 96.34996260078037}\n",
            "{'alpha': 24.96146533228574, 'beta': 84.18108144939877}\n",
            "{'alpha': 1.4600856650979779, 'beta': 16.794602840843396}\n",
            "{'alpha': 3.7701584283209257, 'beta': 56.5442194837852}\n",
            "{'alpha': 25.971127615326395, 'beta': 9.89169869642808}\n",
            "{'alpha': 83.56894074537095, 'beta': 43.173838909409206}\n",
            "{'alpha': 13.083162287181423, 'beta': 10.550174783251748}\n",
            "{'alpha': 2.969855758052347, 'beta': 84.51354200664247}\n",
            "{'alpha': 56.13409966943767, 'beta': 54.78080927365645}\n",
            "{'alpha': 39.14546781780633, 'beta': 9.833055099227181}\n",
            "{'alpha': 79.86925089031952, 'beta': 66.93570203439197}\n",
            "{'alpha': 53.846331847714275, 'beta': 25.44601644983473}\n",
            "{'alpha': 14.615720935205616, 'beta': 84.4323031730354}\n",
            "{'alpha': 14.361209382159615, 'beta': 99.74212414714923}\n",
            "{'alpha': 71.93299837420545, 'beta': 12.425915311228934}\n",
            "{'alpha': 10.272584481298097, 'beta': 66.48387764378239}\n",
            "{'alpha': 41.28266038197851, 'beta': 90.25717338208099}\n",
            "{'alpha': 60.25108262980651, 'beta': 25.30519581377729}\n",
            "{'alpha': 35.44199137146535, 'beta': 7.60335967757986}\n",
            "{'alpha': 55.50533804863111, 'beta': 95.68054987729562}\n",
            "{'alpha': 37.85000345901276, 'beta': 96.89840423115591}\n",
            "{'alpha': 44.415317603807225, 'beta': 1.8656929847049213}\n",
            "{'alpha': 88.74226141542619, 'beta': 63.879926844294346}\n",
            "{'alpha': 55.26251754665622, 'beta': 47.79107223239424}\n",
            "{'alpha': 47.865547413313045, 'beta': 42.91002676533973}\n",
            "{'alpha': 55.770165101134815, 'beta': 31.595549475907973}\n",
            "{'alpha': 38.44627260078566, 'beta': 4.059058235408628}\n",
            "{'alpha': 62.837430976766115, 'beta': 13.505823987847378}\n",
            "{'alpha': 12.868144284068165, 'beta': 26.157597871100734}\n",
            "{'alpha': 8.936100229555052, 'beta': 72.97596039305004}\n",
            "{'alpha': 86.75811226164419, 'beta': 7.5001251406208524}\n"
          ],
          "name": "stdout"
        }
      ]
    },
    {
      "cell_type": "code",
      "metadata": {
        "id": "3e6dMObrhf2T",
        "colab_type": "code",
        "colab": {}
      },
      "source": [
        ""
      ],
      "execution_count": 0,
      "outputs": []
    }
  ]
}