{
  "nbformat": 4,
  "nbformat_minor": 0,
  "metadata": {
    "colab": {
      "name": "CatBoostHParamTuning.ipynb",
      "provenance": [],
      "collapsed_sections": [],
      "authorship_tag": "ABX9TyMCCp6l572OKxBiJv9h6vFO",
      "include_colab_link": true
    },
    "kernelspec": {
      "name": "python3",
      "display_name": "Python 3"
    },
    "accelerator": "GPU"
  },
  "cells": [
    {
      "cell_type": "markdown",
      "metadata": {
        "id": "view-in-github",
        "colab_type": "text"
      },
      "source": [
        "<a href=\"https://colab.research.google.com/github/AlkaidCheng/example/blob/master/CatBoostHParamTuning.ipynb\" target=\"_parent\"><img src=\"https://colab.research.google.com/assets/colab-badge.svg\" alt=\"Open In Colab\"/></a>"
      ]
    },
    {
      "cell_type": "code",
      "metadata": {
        "id": "omoamdl7kzLw",
        "colab_type": "code",
        "colab": {
          "base_uri": "https://localhost:8080/",
          "height": 1000
        },
        "outputId": "4d4789a7-a99b-4eeb-eb36-d69bfa04743c"
      },
      "source": [
        "! pip install  --upgrade bayesian-optimization\n",
        "! pip install ray[tune]"
      ],
      "execution_count": 1,
      "outputs": [
        {
          "output_type": "stream",
          "text": [
            "Collecting bayesian-optimization\n",
            "  Downloading https://files.pythonhosted.org/packages/b5/26/9842333adbb8f17bcb3d699400a8b1ccde0af0b6de8d07224e183728acdf/bayesian_optimization-1.1.0-py3-none-any.whl\n",
            "Requirement already satisfied, skipping upgrade: scipy>=0.14.0 in /usr/local/lib/python3.6/dist-packages (from bayesian-optimization) (1.4.1)\n",
            "Requirement already satisfied, skipping upgrade: numpy>=1.9.0 in /usr/local/lib/python3.6/dist-packages (from bayesian-optimization) (1.17.5)\n",
            "Requirement already satisfied, skipping upgrade: scikit-learn>=0.18.0 in /usr/local/lib/python3.6/dist-packages (from bayesian-optimization) (0.22.1)\n",
            "Requirement already satisfied, skipping upgrade: joblib>=0.11 in /usr/local/lib/python3.6/dist-packages (from scikit-learn>=0.18.0->bayesian-optimization) (0.14.1)\n",
            "Installing collected packages: bayesian-optimization\n",
            "Successfully installed bayesian-optimization-1.1.0\n",
            "Collecting ray[tune]\n",
            "\u001b[?25l  Downloading https://files.pythonhosted.org/packages/a8/47/7bc688d2c06c1d0fbd388b4e2725028b2792e1f652a28b848462a724c972/ray-0.8.2-cp36-cp36m-manylinux1_x86_64.whl (19.1MB)\n",
            "\u001b[K     |████████████████████████████████| 19.1MB 156kB/s \n",
            "\u001b[?25hRequirement already satisfied: click in /usr/local/lib/python3.6/dist-packages (from ray[tune]) (7.0)\n",
            "Requirement already satisfied: pytest in /usr/local/lib/python3.6/dist-packages (from ray[tune]) (3.6.4)\n",
            "Requirement already satisfied: six>=1.0.0 in /usr/local/lib/python3.6/dist-packages (from ray[tune]) (1.12.0)\n",
            "Collecting funcsigs\n",
            "  Downloading https://files.pythonhosted.org/packages/69/cb/f5be453359271714c01b9bd06126eaf2e368f1fddfff30818754b5ac2328/funcsigs-1.0.2-py2.py3-none-any.whl\n",
            "Requirement already satisfied: pyyaml in /usr/local/lib/python3.6/dist-packages (from ray[tune]) (3.13)\n",
            "Requirement already satisfied: protobuf>=3.8.0 in /usr/local/lib/python3.6/dist-packages (from ray[tune]) (3.10.0)\n",
            "Collecting aiohttp\n",
            "\u001b[?25l  Downloading https://files.pythonhosted.org/packages/7c/39/7eb5f98d24904e0f6d3edb505d4aa60e3ef83c0a58d6fe18244a51757247/aiohttp-3.6.2-cp36-cp36m-manylinux1_x86_64.whl (1.2MB)\n",
            "\u001b[K     |████████████████████████████████| 1.2MB 49.5MB/s \n",
            "\u001b[?25hRequirement already satisfied: grpcio in /usr/local/lib/python3.6/dist-packages (from ray[tune]) (1.27.1)\n",
            "Requirement already satisfied: google in /usr/local/lib/python3.6/dist-packages (from ray[tune]) (2.0.3)\n",
            "Collecting py-spy>=0.2.0\n",
            "\u001b[?25l  Downloading https://files.pythonhosted.org/packages/8e/a7/ab45c9ee3c4654edda3efbd6b8e2fa4962226718a7e3e3be6e3926bf3617/py_spy-0.3.3-py2.py3-none-manylinux1_x86_64.whl (2.9MB)\n",
            "\u001b[K     |████████████████████████████████| 2.9MB 47.6MB/s \n",
            "\u001b[?25hCollecting redis>=3.3.2\n",
            "\u001b[?25l  Downloading https://files.pythonhosted.org/packages/f0/05/1fc7feedc19c123e7a95cfc9e7892eb6cdd2e5df4e9e8af6384349c1cc3d/redis-3.4.1-py2.py3-none-any.whl (71kB)\n",
            "\u001b[K     |████████████████████████████████| 71kB 11.9MB/s \n",
            "\u001b[?25hRequirement already satisfied: jsonschema in /usr/local/lib/python3.6/dist-packages (from ray[tune]) (2.6.0)\n",
            "Requirement already satisfied: cloudpickle in /usr/local/lib/python3.6/dist-packages (from ray[tune]) (1.2.2)\n",
            "Requirement already satisfied: filelock in /usr/local/lib/python3.6/dist-packages (from ray[tune]) (3.0.12)\n",
            "Collecting colorama\n",
            "  Downloading https://files.pythonhosted.org/packages/c9/dc/45cdef1b4d119eb96316b3117e6d5708a08029992b2fee2c143c7a0a5cc5/colorama-0.4.3-py2.py3-none-any.whl\n",
            "Requirement already satisfied: packaging in /usr/local/lib/python3.6/dist-packages (from ray[tune]) (20.1)\n",
            "Requirement already satisfied: numpy>=1.16 in /usr/local/lib/python3.6/dist-packages (from ray[tune]) (1.17.5)\n",
            "Collecting tensorboardX; extra == \"tune\"\n",
            "\u001b[?25l  Downloading https://files.pythonhosted.org/packages/35/f1/5843425495765c8c2dd0784a851a93ef204d314fc87bcc2bbb9f662a3ad1/tensorboardX-2.0-py2.py3-none-any.whl (195kB)\n",
            "\u001b[K     |████████████████████████████████| 204kB 41.6MB/s \n",
            "\u001b[?25hRequirement already satisfied: tabulate; extra == \"tune\" in /usr/local/lib/python3.6/dist-packages (from ray[tune]) (0.8.6)\n",
            "Requirement already satisfied: setuptools in /usr/local/lib/python3.6/dist-packages (from pytest->ray[tune]) (45.2.0)\n",
            "Requirement already satisfied: py>=1.5.0 in /usr/local/lib/python3.6/dist-packages (from pytest->ray[tune]) (1.8.1)\n",
            "Requirement already satisfied: more-itertools>=4.0.0 in /usr/local/lib/python3.6/dist-packages (from pytest->ray[tune]) (8.2.0)\n",
            "Requirement already satisfied: pluggy<0.8,>=0.5 in /usr/local/lib/python3.6/dist-packages (from pytest->ray[tune]) (0.7.1)\n",
            "Requirement already satisfied: attrs>=17.4.0 in /usr/local/lib/python3.6/dist-packages (from pytest->ray[tune]) (19.3.0)\n",
            "Requirement already satisfied: atomicwrites>=1.0 in /usr/local/lib/python3.6/dist-packages (from pytest->ray[tune]) (1.3.0)\n",
            "Collecting async-timeout<4.0,>=3.0\n",
            "  Downloading https://files.pythonhosted.org/packages/e1/1e/5a4441be21b0726c4464f3f23c8b19628372f606755a9d2e46c187e65ec4/async_timeout-3.0.1-py3-none-any.whl\n",
            "Collecting idna-ssl>=1.0; python_version < \"3.7\"\n",
            "  Downloading https://files.pythonhosted.org/packages/46/03/07c4894aae38b0de52b52586b24bf189bb83e4ddabfe2e2c8f2419eec6f4/idna-ssl-1.1.0.tar.gz\n",
            "Collecting yarl<2.0,>=1.0\n",
            "\u001b[?25l  Downloading https://files.pythonhosted.org/packages/95/8f/0209fc5d975f839344c33c822ff2f7ef80f6b1e984673a5a68f960bfa583/yarl-1.4.2-cp36-cp36m-manylinux1_x86_64.whl (252kB)\n",
            "\u001b[K     |████████████████████████████████| 256kB 51.2MB/s \n",
            "\u001b[?25hCollecting multidict<5.0,>=4.5\n",
            "\u001b[?25l  Downloading https://files.pythonhosted.org/packages/30/2e/3ab2f1fb72571f75013db323a3799d505d99f3bc203513604f1ffb9b7858/multidict-4.7.5-cp36-cp36m-manylinux1_x86_64.whl (148kB)\n",
            "\u001b[K     |████████████████████████████████| 153kB 59.7MB/s \n",
            "\u001b[?25hRequirement already satisfied: typing-extensions>=3.6.5; python_version < \"3.7\" in /usr/local/lib/python3.6/dist-packages (from aiohttp->ray[tune]) (3.6.6)\n",
            "Requirement already satisfied: chardet<4.0,>=2.0 in /usr/local/lib/python3.6/dist-packages (from aiohttp->ray[tune]) (3.0.4)\n",
            "Requirement already satisfied: beautifulsoup4 in /usr/local/lib/python3.6/dist-packages (from google->ray[tune]) (4.6.3)\n",
            "Requirement already satisfied: pyparsing>=2.0.2 in /usr/local/lib/python3.6/dist-packages (from packaging->ray[tune]) (2.4.6)\n",
            "Requirement already satisfied: idna>=2.0 in /usr/local/lib/python3.6/dist-packages (from idna-ssl>=1.0; python_version < \"3.7\"->aiohttp->ray[tune]) (2.8)\n",
            "Building wheels for collected packages: idna-ssl\n",
            "  Building wheel for idna-ssl (setup.py) ... \u001b[?25l\u001b[?25hdone\n",
            "  Created wheel for idna-ssl: filename=idna_ssl-1.1.0-cp36-none-any.whl size=3162 sha256=40952fddaee282afe6618f664dc1b4f8b18dd66a9f7c3d7a6374b7ff90f85a85\n",
            "  Stored in directory: /root/.cache/pip/wheels/d3/00/b3/32d613e19e08a739751dd6bf998cfed277728f8b2127ad4eb7\n",
            "Successfully built idna-ssl\n",
            "Installing collected packages: funcsigs, async-timeout, idna-ssl, multidict, yarl, aiohttp, py-spy, redis, colorama, tensorboardX, ray\n",
            "Successfully installed aiohttp-3.6.2 async-timeout-3.0.1 colorama-0.4.3 funcsigs-1.0.2 idna-ssl-1.1.0 multidict-4.7.5 py-spy-0.3.3 ray-0.8.2 redis-3.4.1 tensorboardX-2.0 yarl-1.4.2\n"
          ],
          "name": "stdout"
        }
      ]
    },
    {
      "cell_type": "code",
      "metadata": {
        "id": "UEgsMMUyk2JG",
        "colab_type": "code",
        "colab": {
          "base_uri": "https://localhost:8080/",
          "height": 200
        },
        "outputId": "fc51b318-631a-434b-e666-1b9722748471"
      },
      "source": [
        "!wget https://gitlab.cern.ch/clcheng/mlhep-googlesummerofcode/raw/master/Prerequisite/MachineLearning/QIS_EXAM_200Events.npz"
      ],
      "execution_count": 2,
      "outputs": [
        {
          "output_type": "stream",
          "text": [
            "--2020-03-08 05:57:31--  https://gitlab.cern.ch/clcheng/mlhep-googlesummerofcode/raw/master/Prerequisite/MachineLearning/QIS_EXAM_200Events.npz\n",
            "Resolving gitlab.cern.ch (gitlab.cern.ch)... 188.184.30.144, 188.184.30.115, 188.184.31.109, ...\n",
            "Connecting to gitlab.cern.ch (gitlab.cern.ch)|188.184.30.144|:443... connected.\n",
            "HTTP request sent, awaiting response... 200 OK\n",
            "Length: 9140 (8.9K) [application/zip]\n",
            "Saving to: ‘QIS_EXAM_200Events.npz’\n",
            "\n",
            "QIS_EXAM_200Events. 100%[===================>]   8.93K  --.-KB/s    in 0s      \n",
            "\n",
            "2020-03-08 05:57:32 (209 MB/s) - ‘QIS_EXAM_200Events.npz’ saved [9140/9140]\n",
            "\n"
          ],
          "name": "stdout"
        }
      ]
    },
    {
      "cell_type": "code",
      "metadata": {
        "id": "Biy9wI6Tk3es",
        "colab_type": "code",
        "colab": {}
      },
      "source": [
        "import numpy as np\n",
        "def shuffle_zippedarrays(arrays):\n",
        "  shape = arrays[0].shape\n",
        "  assert all(shape == arrays[0].shape for arr in arrays)\n",
        "  index = np.random.permutation(shape[0])\n",
        "  return [arr[index] for arr in arrays]\n",
        "\n",
        "def shuffle_data(input, label):\n",
        "  output = shuffle_zippedarrays([input,label])\n",
        "  return output[0], output[1]\n",
        "\n",
        "def load_data(arrays, shuffle = True):\n",
        "  data = {}\n",
        "  for key in arrays:\n",
        "    input, label = np.array([]), np.array([])\n",
        "    for klabel in arrays[key].item():\n",
        "      _input = arrays[key].item()[klabel]\n",
        "      _label = np.full((_input.shape[0],),int(klabel))\n",
        "      input = np.concatenate((input,_input),axis=0) if input.size else _input\n",
        "      label = np.concatenate((label,_label),axis=0) if label.size else _label\n",
        "    if shuffle:\n",
        "      input, label = shuffle_data(input, label)\n",
        "    data[key] = {'input': input, 'label': label}\n",
        "  return data\n",
        "def load_train_test_input_labels(arrays, shuffle = True):\n",
        "  data = load_data(arrays, shuffle)\n",
        "  return data['training_input']['input'], data['test_input']['input'], data['training_input']['label'], data['test_input']['label']"
      ],
      "execution_count": 0,
      "outputs": []
    },
    {
      "cell_type": "code",
      "metadata": {
        "id": "SWXR9lBok4nm",
        "colab_type": "code",
        "colab": {}
      },
      "source": [
        "data = np.load('QIS_EXAM_200Events.npz',allow_pickle=True)\n",
        "train_input, test_input, train_label, test_label = load_train_test_input_labels(data)\n",
        "X = np.concatenate((train_input,test_input),axis = 0)\n",
        "Y = np.concatenate((train_label,test_label),axis = 0)"
      ],
      "execution_count": 0,
      "outputs": []
    },
    {
      "cell_type": "code",
      "metadata": {
        "id": "qN3RDtGyt2Bm",
        "colab_type": "code",
        "colab": {
          "base_uri": "https://localhost:8080/",
          "height": 333
        },
        "outputId": "9dad436b-c523-464c-d7d6-46fe261719bf"
      },
      "source": [
        "! pip install catboost"
      ],
      "execution_count": 5,
      "outputs": [
        {
          "output_type": "stream",
          "text": [
            "Collecting catboost\n",
            "\u001b[?25l  Downloading https://files.pythonhosted.org/packages/94/ec/12b9a42b2ea7dfe5b602f235692ab2b61ee1334ff34334a15902272869e8/catboost-0.22-cp36-none-manylinux1_x86_64.whl (64.4MB)\n",
            "\u001b[K     |████████████████████████████████| 64.4MB 46kB/s \n",
            "\u001b[?25hRequirement already satisfied: graphviz in /usr/local/lib/python3.6/dist-packages (from catboost) (0.10.1)\n",
            "Requirement already satisfied: matplotlib in /usr/local/lib/python3.6/dist-packages (from catboost) (3.1.3)\n",
            "Requirement already satisfied: pandas>=0.24.0 in /usr/local/lib/python3.6/dist-packages (from catboost) (0.25.3)\n",
            "Requirement already satisfied: six in /usr/local/lib/python3.6/dist-packages (from catboost) (1.12.0)\n",
            "Requirement already satisfied: numpy>=1.16.0 in /usr/local/lib/python3.6/dist-packages (from catboost) (1.17.5)\n",
            "Requirement already satisfied: scipy in /usr/local/lib/python3.6/dist-packages (from catboost) (1.4.1)\n",
            "Requirement already satisfied: plotly in /usr/local/lib/python3.6/dist-packages (from catboost) (4.4.1)\n",
            "Requirement already satisfied: cycler>=0.10 in /usr/local/lib/python3.6/dist-packages (from matplotlib->catboost) (0.10.0)\n",
            "Requirement already satisfied: pyparsing!=2.0.4,!=2.1.2,!=2.1.6,>=2.0.1 in /usr/local/lib/python3.6/dist-packages (from matplotlib->catboost) (2.4.6)\n",
            "Requirement already satisfied: python-dateutil>=2.1 in /usr/local/lib/python3.6/dist-packages (from matplotlib->catboost) (2.6.1)\n",
            "Requirement already satisfied: kiwisolver>=1.0.1 in /usr/local/lib/python3.6/dist-packages (from matplotlib->catboost) (1.1.0)\n",
            "Requirement already satisfied: pytz>=2017.2 in /usr/local/lib/python3.6/dist-packages (from pandas>=0.24.0->catboost) (2018.9)\n",
            "Requirement already satisfied: retrying>=1.3.3 in /usr/local/lib/python3.6/dist-packages (from plotly->catboost) (1.3.3)\n",
            "Requirement already satisfied: setuptools in /usr/local/lib/python3.6/dist-packages (from kiwisolver>=1.0.1->matplotlib->catboost) (45.2.0)\n",
            "Installing collected packages: catboost\n",
            "Successfully installed catboost-0.22\n"
          ],
          "name": "stdout"
        }
      ]
    },
    {
      "cell_type": "code",
      "metadata": {
        "id": "MSfOVKjFlS8M",
        "colab_type": "code",
        "colab": {
          "base_uri": "https://localhost:8080/",
          "height": 153
        },
        "outputId": "a1819242-8116-4ba4-da40-01e07b68391e"
      },
      "source": [
        "import catboost as cb\n",
        "import numpy as np\n",
        "import sklearn.datasets\n",
        "import sklearn.metrics\n",
        "from ray.tune.suggest.hyperopt import HyperOptSearch\n",
        "from ray.tune.schedulers import AsyncHyperBandScheduler\n",
        "import ray\n",
        "from hyperopt import hp\n",
        "from ray import tune\n",
        "from pdb import set_trace\n",
        "def train_breast_cancer(params):\n",
        "    dataset = cb.Pool(X, Y)\n",
        "    scores = cb.cv(\n",
        "            pool=dataset,\n",
        "            params=params,\n",
        "            fold_count=2,\n",
        "            verbose=False)\n",
        "        \n",
        "    # scores returns a dictionary with mean and std (per-fold) of metric \n",
        "    # value for each cv iteration, we choose minimal value of objective \n",
        "    # mean (though it will be better to choose minimal value among all folds)\n",
        "    # because noise is additive\n",
        "    max_mean_auc = np.max(scores['test-Logloss-mean'])\n",
        "    tune.track.log(\n",
        "        mean_accuracy=max_mean_auc,\n",
        "        done=True)\n",
        "    \n",
        "ray.shutdown()\n",
        "ray.init(webui_host='127.0.0.1')\n",
        "\n",
        "\n",
        "space = {\n",
        "    'iterations': hp.quniform('iterations', 10, 1000, 1),\n",
        "    'depth': hp.quniform('depth', 1, 10, 1),\n",
        "    'learning_rate': hp.loguniform('learning_rate', 1e-5, np.log(0.2)),\n",
        "    'random_strength': hp.loguniform('random_strength', 1e-7, 10),\n",
        "    'bagging_temperature': hp.uniform('bagging_temperature', 0.0, 1.0),\n",
        "    'border_count': hp.quniform('border_count', 1, 255, 1),\n",
        "    'l2_leaf_reg': hp.quniform('l2_leaf_reg', 2,30 , 1),\n",
        "    \"loss_function\": \"Logloss\",\n",
        "    'task_type' : 'GPU'\n",
        "}\n",
        "\n",
        "\n",
        "algo = HyperOptSearch(\n",
        "        space,\n",
        "        max_concurrent=4,\n",
        "        metric=\"mean_accuracy\",\n",
        "        mode=\"min\")\n",
        "\n",
        "from ray.tune.schedulers import ASHAScheduler\n",
        "! rm -r /lightgbm_result\n",
        "analysis = tune.run(\n",
        "    train_breast_cancer,\n",
        "    num_samples=10,\n",
        "    verbose =  0,\n",
        "    resources_per_trial={'gpu': 1},\n",
        "    search_alg = algo,\n",
        "    local_dir = '/lightgbm_result',\n",
        "    scheduler=AsyncHyperBandScheduler(metric=\"mean_accuracy\", mode=\"min\"))\n",
        "print(\"Best config: \", analysis.get_best_config(metric=\"mean_accuracy\"))"
      ],
      "execution_count": 15,
      "outputs": [
        {
          "output_type": "stream",
          "text": [
            "2020-03-08 06:25:14,051\tWARNING services.py:586 -- setpgrp failed, processes may not be cleaned up properly: [Errno 1] Operation not permitted.\n",
            "2020-03-08 06:25:14,053\tINFO resource_spec.py:212 -- Starting Ray with 6.59 GiB memory available for workers and up to 3.3 GiB for objects. You can adjust these settings with ray.init(memory=<bytes>, object_store_memory=<bytes>).\n",
            "2020-03-08 06:25:14,362\tINFO services.py:1078 -- View the Ray dashboard at \u001b[1m\u001b[32m127.0.0.1:8265\u001b[39m\u001b[22m\n",
            "2020-03-08 06:25:15,664\tINFO function_runner.py:250 -- tune.track signature detected.\n",
            "2020-03-08 06:26:24,523\tWARNING worker.py:1058 -- The actor or task with ID ffffffffffffffff34c643a70100 is pending and cannot currently be scheduled. It requires {CPU: 1.000000}, {GPU: 1.000000} for execution and {CPU: 1.000000}, {GPU: 1.000000} for placement, but this node only has remaining {GPU: 1.000000}, {node:172.28.0.2: 1.000000}, {CPU: 2.000000}, {memory: 6.591797 GiB}, {object_store_memory: 2.246094 GiB}. In total there are 0 pending tasks and 1 pending actors on this node. This is likely due to all cluster resources being claimed by actors. To resolve the issue, consider creating fewer actors or increase the resources available to this Ray cluster. You can ignore this message if this Ray cluster is expected to auto-scale.\n",
            "2020-03-08 06:27:33,441\tINFO tune.py:352 -- Returning an analysis object by default. You can call `analysis.trials` to retrieve a list of trials. This message will be removed in future versions of Tune.\n"
          ],
          "name": "stderr"
        },
        {
          "output_type": "stream",
          "text": [
            "Best config:  {'bagging_temperature': 0.4804469429091168, 'border_count': 19.0, 'depth': 3.0, 'iterations': 726.0, 'l2_leaf_reg': 18.0, 'learning_rate': 0.9023050715669971, 'loss_function': 'Logloss', 'random_strength': 1267.4156381989217}\n"
          ],
          "name": "stdout"
        }
      ]
    },
    {
      "cell_type": "code",
      "metadata": {
        "id": "1oxGGRNuk56n",
        "colab_type": "code",
        "colab": {}
      },
      "source": [
        ""
      ],
      "execution_count": 0,
      "outputs": []
    }
  ]
}