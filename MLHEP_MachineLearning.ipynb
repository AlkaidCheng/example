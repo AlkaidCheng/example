{
  "nbformat": 4,
  "nbformat_minor": 0,
  "metadata": {
    "colab": {
      "name": "MLHEP_MachineLearning.ipynb",
      "provenance": [],
      "collapsed_sections": [],
      "authorship_tag": "ABX9TyMVkZdXMJ1DY9EnOlDzNH2D",
      "include_colab_link": true
    },
    "kernelspec": {
      "name": "python3",
      "display_name": "Python 3"
    },
    "accelerator": "GPU"
  },
  "cells": [
    {
      "cell_type": "markdown",
      "metadata": {
        "id": "view-in-github",
        "colab_type": "text"
      },
      "source": [
        "<a href=\"https://colab.research.google.com/github/AlkaidCheng/example/blob/master/MLHEP_MachineLearning.ipynb\" target=\"_parent\"><img src=\"https://colab.research.google.com/assets/colab-badge.svg\" alt=\"Open In Colab\"/></a>"
      ]
    },
    {
      "cell_type": "code",
      "metadata": {
        "id": "dqLce5MQBrr9",
        "colab_type": "code",
        "colab": {}
      },
      "source": [
        "%matplotlib inline\n",
        "import numpy as np\n",
        "import matplotlib\n",
        "import matplotlib.pyplot as plt"
      ],
      "execution_count": 0,
      "outputs": []
    },
    {
      "cell_type": "code",
      "metadata": {
        "id": "3JFzOHxJDBXz",
        "colab_type": "code",
        "colab": {
          "base_uri": "https://localhost:8080/",
          "height": 200
        },
        "outputId": "5b10b334-d294-438c-97c6-ce65a03e437f"
      },
      "source": [
        "!wget https://gitlab.cern.ch/clcheng/mlhep-googlesummerofcode/raw/master/Prerequisite/MachineLearning/QIS_EXAM_200Events.npz"
      ],
      "execution_count": 3,
      "outputs": [
        {
          "output_type": "stream",
          "text": [
            "--2020-03-09 00:19:53--  https://gitlab.cern.ch/clcheng/mlhep-googlesummerofcode/raw/master/Prerequisite/MachineLearning/QIS_EXAM_200Events.npz\n",
            "Resolving gitlab.cern.ch (gitlab.cern.ch)... 188.185.68.13, 188.184.31.136, 188.184.30.115, ...\n",
            "Connecting to gitlab.cern.ch (gitlab.cern.ch)|188.185.68.13|:443... connected.\n",
            "HTTP request sent, awaiting response... 200 OK\n",
            "Length: 9140 (8.9K) [application/zip]\n",
            "Saving to: ‘QIS_EXAM_200Events.npz.2’\n",
            "\n",
            "QIS_EXAM_200Events. 100%[===================>]   8.93K  --.-KB/s    in 0s      \n",
            "\n",
            "2020-03-09 00:19:55 (92.8 MB/s) - ‘QIS_EXAM_200Events.npz.2’ saved [9140/9140]\n",
            "\n"
          ],
          "name": "stdout"
        }
      ]
    },
    {
      "cell_type": "code",
      "metadata": {
        "id": "E75jvCa4dVEs",
        "colab_type": "code",
        "colab": {}
      },
      "source": [
        "#! pip install lightgbm --no-deps  --upgrade --force-reinstall --install-option=--gpu"
      ],
      "execution_count": 0,
      "outputs": []
    },
    {
      "cell_type": "code",
      "metadata": {
        "id": "1mxBqkMc56JC",
        "colab_type": "code",
        "colab": {}
      },
      "source": [
        "def install_module(name):\n",
        "  if name == 'lightgbm':\n",
        "    try:\n",
        "      import lightgbm\n",
        "    except ModuleNotFoundError:\n",
        "      ! pip install lightgbm --no-deps  --upgrade --force-reinstall --install-option=--gpu\n",
        "      import lightgbm\n",
        "  elif name == 'catboost':\n",
        "    try:\n",
        "      import catboost\n",
        "    except ModuleNotFoundError:\n",
        "      ! pip install catboost\n",
        "  elif name == 'xgboost':\n",
        "    try:\n",
        "      import xgboost\n",
        "    except ModuleNotFoundError:\n",
        "      ! pip install xgboost\n",
        "  elif name == 'skorch':\n",
        "    try:\n",
        "      import skorch\n",
        "    except ModuleNotFoundError:\n",
        "      ! pip install skorch"
      ],
      "execution_count": 0,
      "outputs": []
    },
    {
      "cell_type": "code",
      "metadata": {
        "id": "YnsAUdghIxaZ",
        "colab_type": "code",
        "colab": {}
      },
      "source": [
        "def shuffle_zippedarrays(arrays):\n",
        "  shape = arrays[0].shape\n",
        "  assert all(shape == arrays[0].shape for arr in arrays)\n",
        "  index = np.random.permutation(shape[0])\n",
        "  return [arr[index] for arr in arrays]\n",
        "\n",
        "def shuffle_data(input, label):\n",
        "  output = shuffle_zippedarrays([input,label])\n",
        "  return output[0], output[1]\n",
        "\n",
        "def load_data(arrays, shuffle = True):\n",
        "  data = {}\n",
        "  for key in arrays:\n",
        "    input, label = np.array([]), np.array([])\n",
        "    for klabel in arrays[key].item():\n",
        "      _input = arrays[key].item()[klabel]\n",
        "      _label = np.full((_input.shape[0],),int(klabel))\n",
        "      input = np.concatenate((input,_input),axis=0) if input.size else _input\n",
        "      label = np.concatenate((label,_label),axis=0) if label.size else _label\n",
        "    if shuffle:\n",
        "      input, label = shuffle_data(input, label)\n",
        "    data[key] = {'input': input, 'label': label}\n",
        "  return data\n",
        "def load_train_test_input_labels(arrays, shuffle = True):\n",
        "  data = load_data(arrays, shuffle)\n",
        "  return data['training_input']['input'], data['test_input']['input'], data['training_input']['label'], data['test_input']['label']"
      ],
      "execution_count": 0,
      "outputs": []
    },
    {
      "cell_type": "code",
      "metadata": {
        "id": "Z294sg2Ki1hk",
        "colab_type": "code",
        "colab": {}
      },
      "source": [
        "data = np.load('QIS_EXAM_200Events.npz',allow_pickle=True)\n",
        "train_input, test_input, train_label, test_label = load_train_test_input_labels(data)"
      ],
      "execution_count": 0,
      "outputs": []
    },
    {
      "cell_type": "code",
      "metadata": {
        "id": "gR4gze31CVFz",
        "colab_type": "code",
        "colab": {
          "base_uri": "https://localhost:8080/",
          "height": 70
        },
        "outputId": "a51d5cbf-c461-4bff-ab8a-910cf31ef535"
      },
      "source": [
        "install_module('skorch')\n",
        "import torch\n",
        "from torch import nn\n",
        "import torch.nn.functional as F\n",
        "from skorch import NeuralNetClassifier\n",
        "torch.manual_seed(0)\n",
        "class ClassifierModule(nn.Module):\n",
        "    def __init__(\n",
        "            self,\n",
        "            num_units=10,\n",
        "            nonlin=F.relu,\n",
        "            dropout=0.5,\n",
        "    ):\n",
        "        super(ClassifierModule, self).__init__()\n",
        "\n",
        "        self.dense0 = nn.Linear(20, num_units)\n",
        "        self.nonlin = nonlin\n",
        "        self.dropout = nn.Dropout(dropout)\n",
        "        self.dense1 = nn.Linear(num_units, 10)\n",
        "        self.output = nn.Linear(10, 2)\n",
        "\n",
        "    def forward(self, X, **kwargs):\n",
        "        X = self.nonlin(self.dense0(X))\n",
        "        X = self.dropout(X)\n",
        "        X = F.relu(self.dense1(X))\n",
        "        X = F.softmax(self.output(X), dim=-1)\n",
        "        return X"
      ],
      "execution_count": 8,
      "outputs": [
        {
          "output_type": "stream",
          "text": [
            "/usr/local/lib/python3.6/dist-packages/sklearn/utils/deprecation.py:144: FutureWarning: The sklearn.metrics.scorer module is  deprecated in version 0.22 and will be removed in version 0.24. The corresponding classes / functions should instead be imported from sklearn.metrics. Anything that cannot be imported from sklearn.metrics is now part of the private API.\n",
            "  warnings.warn(message, FutureWarning)\n"
          ],
          "name": "stderr"
        }
      ]
    },
    {
      "cell_type": "code",
      "metadata": {
        "id": "OWrbb3qM1hgi",
        "colab_type": "code",
        "colab": {}
      },
      "source": [
        "\n",
        "def get_model(model, gpu = True):\n",
        "  if model == 'RandomForest':\n",
        "    from sklearn.ensemble import RandomForestClassifier\n",
        "    #param = {'criterion': 'gini', 'max_depth': 1, 'max_features': 'auto', 'min_samples_leaf': 5, 'min_samples_split': 6, 'n_estimators': 280}\n",
        "    param = {}\n",
        "    return RandomForestClassifier(**param)\n",
        "  elif model == 'DecisionTree':\n",
        "    from sklearn.tree import DecisionTreeClassifier\n",
        "    param =  {'criterion': 'entropy', 'max_depth': 29, 'max_features': 'sqrt', 'min_samples_leaf': 8, 'min_samples_split': 4}\n",
        "    #param = {}\n",
        "    return DecisionTreeClassifier(**param)\n",
        "  elif model == 'xgboost':\n",
        "    install_module('xgboost')\n",
        "    import xgboost\n",
        "    if gpu:\n",
        "      param = {'booster': 'gbtree', 'colsample_bytree': 0.9726979433987133, 'eta': 0.013692988629520534, 'eval_metric': 'logloss', 'gamma': 3.990499197892894, 'grow_policy': 'lossguide', 'max_depth': 21, 'min_child_weight': 8.0, 'num_threads': 4, 'objective': 'binary:logistic', 'subsample': 0.7025619513749428, 'tree_method': 'gpu_hist', 'verbosity': 0}\n",
        "      #param = {'booster': 'gbtree', 'colsample_bytree': 0.6584081171138948, 'eta': 0.02920403394970563, 'eval_metric': 'logloss', 'gamma': 8.368046422375077, 'grow_policy': 'lossguide', 'max_depth': 5, 'min_child_weight': 7.0, 'num_threads': 4, 'objective': 'binary:logistic', 'subsample': 0.5538186461560219, 'tree_method': 'gpu_hist', 'verbosity': 0}\n",
        "      #param = {'booster': 'gbtree', 'colsample_bytree': 0.9480213147848217, 'eta': 0.09609772163997372, 'eval_metric': 'logloss', 'gamma': 4.379610693019819, 'grow_policy': 'lossguide', 'max_depth': 6, 'min_child_weight': 7.0, 'num_threads': 4, 'objective': 'binary:logistic', 'subsample': 0.5778642303546857, 'tree_method': 'gpu_hist', 'verbosity': 0}\n",
        "      #param = {'booster': 'gbtree', 'colsample_bytree': 0.7690620784741515, 'eta': 0.19396976283719422, 'eval_metric': 'logloss', 'gamma': 0.007577751535214894, 'grow_policy': 'lossguide', 'max_depth': 12, 'min_child_weight': 11.0, 'num_threads': 4, 'objective': 'binary:logistic', 'subsample': 0.7012762825297565, 'tree_method': 'gpu_hist', 'verbosity': 0}\n",
        "      return xgboost.XGBClassifier(**param)\n",
        "      #return xgboost.XGBClassifier(tree_method=\"gpu_hist\")\n",
        "    else:\n",
        "      return xgboost.XGBClassifier(tree_method=\"hist\", thread_count=-1)\n",
        "  elif model == 'lightgbm':\n",
        "    install_module('lightgbm')\n",
        "    import lightgbm\n",
        "    #param = {\"device_type\" :\"gpu\",'boosting_type': 'gbdt', 'subsample': 0.7751654023732166, 'colsample_bytree': 0.9985044157662377, 'learning_rate': 0.10958613782888446, 'metric': 'binary_logloss', 'num_leaves': 51, 'objective': 'binary', 'reg_alpha': 0.7818573099513713, 'reg_lambda': 0.7347846282067523, 'verbose': -1}\n",
        "    #param = {\"device_type\" :\"gpu\", 'boosting_type': 'dart', 'subsample': 0.6381061802743232, 'colsample_bytree': 0.81059476135651, 'learning_rate': 0.1231506906601652, 'metric': 'binary_logloss', 'num_leaves': 103, 'objective': 'binary', 'reg_alpha': 0.21643501148927907, 'reg_lambda': 0.295274187130237, 'verbose': -1}\n",
        "    param = {\"device_type\" :\"gpu\",'boosting_type': 'gbdt', 'subsample': 0.8069159416588685, 'colsample_bytree': 0.8186783735937218, 'learning_rate': 0.04669483279255087, 'metric': 'binary_logloss', 'num_leaves': 714, 'objective': 'binary', 'reg_alpha': 0.6570397599979627, 'reg_lambda': 0.03784950639114426, 'verbose': 0}\n",
        "    #param = {\"device_type\" :\"gpu\"}\n",
        "    if gpu:\n",
        "      return lightgbm.LGBMClassifier(**param)\n",
        "    else:\n",
        "      return lightgbm.LGBMClassifier(num_threads=-1, **param)\n",
        "  elif model == 'catboost':\n",
        "    install_module('catboost')\n",
        "    #param = {'bagging_temperature': 0.4804469429091168, 'border_count': 19.0, 'depth': 3.0, 'iterations': 726.0, 'l2_leaf_reg': 18.0, 'learning_rate': 0.9023050715669971, 'loss_function': 'Logloss', 'random_strength': 1267.4156381989217}\n",
        "    #param = {'bagging_temperature': 0.13096962400273104, 'border_count': 135, 'depth': 9, 'eval_metric': 'AUC', 'iterations': 808, 'l2_leaf_reg': 8, 'learning_rate': 0.9508459441792445, 'loss_function': 'Logloss', 'random_strength': 11.022100790452129, 'task_type': 'GPU'}\n",
        "    #param =  {'bagging_temperature': 0.46868882132631184, 'border_count': 109.0, 'depth': 10.0, 'eval_metric': 'Logloss', 'iterations': 800.0, 'l2_leaf_reg': 7.0, 'learning_rate': 1.8616950937495608e-06, 'loss_function': 'Logloss', 'task_type': 'GPU'}\n",
        "    #param =  {'depth': 6, 'eval_metric': 'AUC', 'iterations': 100, 'l2_leaf_reg': 4.606475900207236, 'learning_rate': 0.838593997258924, 'loss_function': 'Logloss', 'task_type': 'GPU'}\n",
        "    param ={'depth': 1, 'eval_metric': 'AUC', 'iterations': 100, 'l2_leaf_reg': 3.1198327753070645, 'learning_rate': 0.45955238467520804, 'loss_function': 'Logloss', 'task_type': 'GPU'}\n",
        "    #param = {}\n",
        "    import catboost\n",
        "    if gpu:\n",
        "      return catboost.CatBoostClassifier( **param)\n",
        "    else:\n",
        "      return catboost.CatBoostClassifier(thread_count=-1, **param)\n",
        "  elif model == 'svm':\n",
        "    from sklearn.svm import SVC\n",
        "    param = {'C': 16.43046914391132, 'gamma': 'auto', 'kernel': 'rbf'}\n",
        "    #param = {'C': 65.37945119527525, 'gamma': 'auto', 'kernel': 'rbf'}\n",
        "    return SVC(probability = True, **param)\n",
        "  elif model == 'nn':\n",
        "    import torch\n",
        "    from torch import nn\n",
        "    import torch.nn.functional as F\n",
        "    from skorch import NeuralNetClassifier\n",
        "    torch.manual_seed(0);\n",
        "    net = NeuralNetClassifier(\n",
        "        ClassifierModule,\n",
        "        max_epochs=20,\n",
        "        lr=0.1,\n",
        "        device='cuda',  # comment this to train with CPU\n",
        "        optimizer__momentum=0.9,\n",
        "        verbose=0\n",
        "    )"
      ],
      "execution_count": 0,
      "outputs": []
    },
    {
      "cell_type": "code",
      "metadata": {
        "id": "9nLDHJNbCFvM",
        "colab_type": "code",
        "colab": {}
      },
      "source": [
        "from sklearn.metrics import roc_curve, auc, confusion_matrix, accuracy_score"
      ],
      "execution_count": 0,
      "outputs": []
    },
    {
      "cell_type": "code",
      "metadata": {
        "id": "-SK5F-V3Qvj7",
        "colab_type": "code",
        "colab": {
          "base_uri": "https://localhost:8080/",
          "height": 337
        },
        "outputId": "f04699f8-2848-4a5b-af71-b3b993f55d6f"
      },
      "source": [
        "model = get_model('DecisionTree')\n",
        "model.fit(train_input,train_label)\n",
        "fpr,tpr,_ = roc_curve(test_label,model.predict_proba(test_input)[:,1])\t\n",
        "auc_score = auc(fpr, tpr)\n",
        "plt.xlabel(\"Signal efficiency\", fontsize=18,fontweight='bold')\n",
        "plt.ylabel(\"Background rejection\", fontsize=18,fontweight='bold')\n",
        "plt.title(\"CatBoost ROC Curve\", fontsize=16,fontweight='bold')\n",
        "plt.xlim(0.0, 1.0)\n",
        "plt.ylim(0.0, 1.0)\n",
        "plt.grid(color='gray', linestyle='--', linewidth=1)\n",
        "plt.plot(tpr,1-fpr,'r--',label='Catboost, auc = %0.3f'% auc_score,linewidth=2)\t\n",
        "plt.plot([0, 1], [1, 0], linestyle='--', color='black', label='Luck, auc = 0.5')\n",
        "plt.legend(loc='best')\n",
        "plt.savefig('catboost_roc.eps')"
      ],
      "execution_count": 34,
      "outputs": [
        {
          "output_type": "stream",
          "text": [
            "The PostScript backend does not support transparency; partially transparent artists will be rendered opaque.\n",
            "The PostScript backend does not support transparency; partially transparent artists will be rendered opaque.\n"
          ],
          "name": "stderr"
        },
        {
          "output_type": "display_data",
          "data": {
            "image/png": "[encoded data removed]",
            "text/plain": [
              "<Figure size 432x288 with 1 Axes>"
            ]
          },
          "metadata": {
            "tags": []
          }
        }
      ]
    },
    {
      "cell_type": "code",
      "metadata": {
        "id": "HfjJwKppaGN8",
        "colab_type": "code",
        "colab": {}
      },
      "source": [
        "from xgboost import plot_importance\n",
        "plt.clf()\n",
        "plt.bar(range(len(model.feature_importances_)), model.feature_importances_)\n",
        "plt.ylabel('Scores', fontsize=16)\n",
        "plt.xlabel('Features', fontsize=16)\n",
        "plt.title('Feature Importance', fontsize=14)\n",
        "plt.show()\n",
        "plt.savefig('feature_importance.eps', format='eps')"
      ],
      "execution_count": 0,
      "outputs": []
    },
    {
      "cell_type": "code",
      "metadata": {
        "id": "cBSTkvWiaWag",
        "colab_type": "code",
        "colab": {}
      },
      "source": [
        ""
      ],
      "execution_count": 0,
      "outputs": []
    }
  ]
}