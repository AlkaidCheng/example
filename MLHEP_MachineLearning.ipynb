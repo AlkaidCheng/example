{
  "nbformat": 4,
  "nbformat_minor": 0,
  "metadata": {
    "colab": {
      "name": "MLHEP_MachineLearning.ipynb",
      "provenance": [],
      "collapsed_sections": [],
      "toc_visible": true,
      "authorship_tag": "ABX9TyMfBwmToTKlB04p5VJ4pPc7",
      "include_colab_link": true
    },
    "kernelspec": {
      "name": "python3",
      "display_name": "Python 3"
    },
    "accelerator": "GPU"
  },
  "cells": [
    {
      "cell_type": "markdown",
      "metadata": {
        "id": "view-in-github",
        "colab_type": "text"
      },
      "source": [
        "<a href=\"https://colab.research.google.com/github/AlkaidCheng/example/blob/master/MLHEP_MachineLearning.ipynb\" target=\"_parent\"><img src=\"https://colab.research.google.com/assets/colab-badge.svg\" alt=\"Open In Colab\"/></a>"
      ]
    },
    {
      "cell_type": "code",
      "metadata": {
        "id": "dqLce5MQBrr9",
        "colab_type": "code",
        "colab": {}
      },
      "source": [
        "%matplotlib inline\n",
        "import numpy as np\n",
        "import matplotlib\n",
        "import matplotlib.pyplot as plt"
      ],
      "execution_count": 0,
      "outputs": []
    },
    {
      "cell_type": "code",
      "metadata": {
        "id": "3JFzOHxJDBXz",
        "colab_type": "code",
        "outputId": "8a661054-6613-4057-a089-57a091f765fa",
        "colab": {
          "base_uri": "https://localhost:8080/",
          "height": 200
        }
      },
      "source": [
        "!wget https://gitlab.cern.ch/clcheng/mlhep-googlesummerofcode/raw/master/Prerequisite/MachineLearning/QIS_EXAM_200Events.npz"
      ],
      "execution_count": 21,
      "outputs": [
        {
          "output_type": "stream",
          "text": [
            "--2020-03-09 13:23:55--  https://gitlab.cern.ch/clcheng/mlhep-googlesummerofcode/raw/master/Prerequisite/MachineLearning/QIS_EXAM_200Events.npz\n",
            "Resolving gitlab.cern.ch (gitlab.cern.ch)... 188.184.30.115, 188.184.31.136, 188.184.28.144, ...\n",
            "Connecting to gitlab.cern.ch (gitlab.cern.ch)|188.184.30.115|:443... connected.\n",
            "HTTP request sent, awaiting response... 200 OK\n",
            "Length: 9140 (8.9K) [application/zip]\n",
            "Saving to: ‘QIS_EXAM_200Events.npz.1’\n",
            "\n",
            "QIS_EXAM_200Events. 100%[===================>]   8.93K  --.-KB/s    in 0s      \n",
            "\n",
            "2020-03-09 13:23:56 (81.9 MB/s) - ‘QIS_EXAM_200Events.npz.1’ saved [9140/9140]\n",
            "\n"
          ],
          "name": "stdout"
        }
      ]
    },
    {
      "cell_type": "code",
      "metadata": {
        "id": "E75jvCa4dVEs",
        "colab_type": "code",
        "outputId": "301b8215-2be5-425b-d02d-5dddc6c6f176",
        "colab": {
          "base_uri": "https://localhost:8080/",
          "height": 216
        }
      },
      "source": [
        "! pip install lightgbm --no-deps  --upgrade --force-reinstall --install-option=--gpu"
      ],
      "execution_count": 0,
      "outputs": [
        {
          "output_type": "stream",
          "text": [
            "/usr/local/lib/python3.6/dist-packages/pip/_internal/commands/install.py:283: UserWarning: Disabling all use of wheels due to the use of --build-options / --global-options / --install-options.\n",
            "  cmdoptions.check_install_build_global(options)\n",
            "Collecting lightgbm\n",
            "\u001b[?25l  Downloading https://files.pythonhosted.org/packages/d2/90/4a75304dae29ae4b2497ed01b12e7c0a8f12f981c086f086b5416d28bf07/lightgbm-2.3.1.tar.gz (679kB)\n",
            "\u001b[K     |████████████████████████████████| 686kB 2.8MB/s \n",
            "\u001b[?25hSkipping wheel build for lightgbm, due to binaries being disabled for it.\n",
            "Installing collected packages: lightgbm\n",
            "  Found existing installation: lightgbm 2.2.3\n",
            "    Uninstalling lightgbm-2.2.3:\n",
            "      Successfully uninstalled lightgbm-2.2.3\n",
            "    Running setup.py install for lightgbm ... \u001b[?25l\u001b[?25hdone\n",
            "Successfully installed lightgbm-2.3.1\n"
          ],
          "name": "stdout"
        }
      ]
    },
    {
      "cell_type": "code",
      "metadata": {
        "id": "1mxBqkMc56JC",
        "colab_type": "code",
        "colab": {}
      },
      "source": [
        "def install_module(name):\n",
        "  if name == 'lightgbm':\n",
        "    try:\n",
        "      import lightgbm\n",
        "    except ModuleNotFoundError:\n",
        "      ! pip install lightgbm --no-deps  --upgrade --force-reinstall --install-option=--gpu\n",
        "      import lightgbm\n",
        "  elif name == 'catboost':\n",
        "    try:\n",
        "      import catboost\n",
        "    except ModuleNotFoundError:\n",
        "      ! pip install catboost\n",
        "  elif name == 'xgboost':\n",
        "    try:\n",
        "      import xgboost\n",
        "    except ModuleNotFoundError:\n",
        "      ! pip install xgboost\n",
        "  elif name == 'skorch':\n",
        "    try:\n",
        "      import skorch\n",
        "    except ModuleNotFoundError:\n",
        "      ! pip install skorch"
      ],
      "execution_count": 0,
      "outputs": []
    },
    {
      "cell_type": "code",
      "metadata": {
        "id": "YnsAUdghIxaZ",
        "colab_type": "code",
        "colab": {}
      },
      "source": [
        "def shuffle_zippedarrays(arrays):\n",
        "  shape = arrays[0].shape\n",
        "  assert all(shape == arrays[0].shape for arr in arrays)\n",
        "  index = np.random.permutation(shape[0])\n",
        "  return [arr[index] for arr in arrays]\n",
        "\n",
        "def shuffle_data(input, label):\n",
        "  output = shuffle_zippedarrays([input,label])\n",
        "  return output[0], output[1]\n",
        "\n",
        "def load_data(arrays, shuffle = True):\n",
        "  data = {}\n",
        "  for key in arrays:\n",
        "    input, label = np.array([]), np.array([])\n",
        "    for klabel in arrays[key].item():\n",
        "      _input = arrays[key].item()[klabel]\n",
        "      _label = np.full((_input.shape[0],),int(klabel))\n",
        "      input = np.concatenate((input,_input),axis=0) if input.size else _input\n",
        "      label = np.concatenate((label,_label),axis=0) if label.size else _label\n",
        "    if shuffle:\n",
        "      input, label = shuffle_data(input, label)\n",
        "    data[key] = {'input': input, 'label': label}\n",
        "  return data\n",
        "def load_train_test_input_labels(arrays, shuffle = True):\n",
        "  data = load_data(arrays, shuffle)\n",
        "  return data['training_input']['input'], data['test_input']['input'], data['training_input']['label'], data['test_input']['label']"
      ],
      "execution_count": 0,
      "outputs": []
    },
    {
      "cell_type": "code",
      "metadata": {
        "id": "Z294sg2Ki1hk",
        "colab_type": "code",
        "colab": {}
      },
      "source": [
        "data = np.load('QIS_EXAM_200Events.npz',allow_pickle=True)\n",
        "train_input, test_input, train_label, test_label = load_train_test_input_labels(data)"
      ],
      "execution_count": 0,
      "outputs": []
    },
    {
      "cell_type": "code",
      "metadata": {
        "id": "gR4gze31CVFz",
        "colab_type": "code",
        "colab": {}
      },
      "source": [
        "install_module('skorch')\n",
        "import torch\n",
        "from torch import nn\n",
        "import torch.nn.functional as F\n",
        "from skorch import NeuralNetClassifier\n",
        "torch.manual_seed(0)\n",
        "class ClassifierModule(nn.Module):\n",
        "    def __init__(\n",
        "            self,\n",
        "            num_units=10,\n",
        "            nonlin=F.relu,\n",
        "            dropout=0.5,\n",
        "    ):\n",
        "        super(ClassifierModule, self).__init__()\n",
        "\n",
        "        self.dense0 = nn.Linear(20, num_units)\n",
        "        self.nonlin = nonlin\n",
        "        self.dropout = nn.Dropout(dropout)\n",
        "        self.dense1 = nn.Linear(num_units, 10)\n",
        "        self.output = nn.Linear(10, 2)\n",
        "\n",
        "    def forward(self, X, **kwargs):\n",
        "        X = self.nonlin(self.dense0(X))\n",
        "        X = self.dropout(X)\n",
        "        X = F.relu(self.dense1(X))\n",
        "        X = F.softmax(self.output(X), dim=-1)\n",
        "        return X"
      ],
      "execution_count": 0,
      "outputs": []
    },
    {
      "cell_type": "code",
      "metadata": {
        "id": "OWrbb3qM1hgi",
        "colab_type": "code",
        "colab": {}
      },
      "source": [
        "\n",
        "def get_model(model, gpu = True):\n",
        "  if model == 'RandomForest':\n",
        "    from sklearn.ensemble import RandomForestClassifier\n",
        "    param = {'criterion': 'gini', 'max_depth': 1, 'max_features': 'auto', 'min_samples_leaf': 5, 'min_samples_split': 6, 'n_estimators': 280}\n",
        "    #param = {}\n",
        "    return RandomForestClassifier(**param)\n",
        "  elif model == 'DecisionTree':\n",
        "    from sklearn.tree import DecisionTreeClassifier\n",
        "    #param =  {'criterion': 'entropy', 'max_depth': 29, 'max_features': 'sqrt', 'min_samples_leaf': 8, 'min_samples_split': 4}\n",
        "    param = {}\n",
        "    return DecisionTreeClassifier(**param)\n",
        "  elif model == 'xgboost':\n",
        "    install_module('xgboost')\n",
        "    import xgboost\n",
        "    if gpu:\n",
        "      param = {'booster': 'gbtree', 'colsample_bytree': 0.9726979433987133, 'eta': 0.013692988629520534, 'eval_metric': 'logloss', 'gamma': 3.990499197892894, 'grow_policy': 'lossguide', 'max_depth': 21, 'min_child_weight': 8.0, 'num_threads': 4, 'objective': 'binary:logistic', 'subsample': 0.7025619513749428, 'tree_method': 'gpu_hist', 'verbosity': 0}\n",
        "      #param = {}\n",
        "      return xgboost.XGBClassifier(**param)\n",
        "      #return xgboost.XGBClassifier(tree_method=\"gpu_hist\")\n",
        "    else:\n",
        "      return xgboost.XGBClassifier(tree_method=\"hist\", thread_count=-1)\n",
        "  elif model == 'lightgbm':\n",
        "    install_module('lightgbm')\n",
        "    import lightgbm\n",
        "    param = {'boosting_type': 'gbdt', 'subsample': 0.8069159416588685, 'colsample_bytree': 0.8186783735937218, 'learning_rate': 0.04669483279255087, 'metric': 'binary_logloss', 'num_leaves': 714, 'objective': 'binary', 'reg_alpha': 0.6570397599979627, 'reg_lambda': 0.03784950639114426, 'verbose': 0}\n",
        "    #param = {\"device_type\" :\"gpu\"}\n",
        "    if gpu:\n",
        "      return lightgbm.LGBMClassifier(**param)\n",
        "    else:\n",
        "      return lightgbm.LGBMClassifier(num_threads=-1, **param)\n",
        "  elif model == 'catboost':\n",
        "    install_module('catboost')\n",
        "    #param =  {'depth': 6, 'eval_metric': 'AUC', 'iterations': 100, 'l2_leaf_reg': 4.606475900207236, 'learning_rate': 0.838593997258924, 'loss_function': 'Logloss'}\n",
        "    param ={'depth': 1, 'eval_metric': 'AUC', 'iterations': 100, 'l2_leaf_reg': 3.1198327753070645, 'learning_rate': 0.45955238467520804, 'loss_function': 'Logloss'}\n",
        "    #param = {'depth': 10.0, 'eval_metric': 'AUC', 'iterations': 100, 'l2_leaf_reg': 6.133550677000716, 'learning_rate': 0.9007733351029805, 'loss_function': 'Logloss'}\n",
        "    #param = {'depth': 14.0, 'eval_metric': 'Logloss', 'iterations': 100, 'l2_leaf_reg': 8.156909606280522, 'learning_rate': 1.2545243623307063e-06, 'loss_function': 'Logloss'}\n",
        "    #param = {}\n",
        "    import catboost\n",
        "    if gpu:\n",
        "      return catboost.CatBoostClassifier( **param)\n",
        "    else:\n",
        "      return catboost.CatBoostClassifier(thread_count=-1, **param)\n",
        "  elif model == 'svm':\n",
        "    from sklearn.svm import SVC\n",
        "    #param =  {'C': 24.678539630231498, 'gamma': 'auto', 'kernel': 'linear'}\n",
        "    param = {}\n",
        "    return SVC(probability = True, **param)\n",
        "  elif model == 'nn':\n",
        "    import torch\n",
        "    from torch import nn\n",
        "    import torch.nn.functional as F\n",
        "    from skorch import NeuralNetClassifier\n",
        "    torch.manual_seed(0);\n",
        "    net = NeuralNetClassifier(\n",
        "        ClassifierModule,\n",
        "        max_epochs=20,\n",
        "        lr=0.1,\n",
        "        device='cuda',  # comment this to train with CPU\n",
        "        optimizer__momentum=0.9,\n",
        "\n",
        "        verbose=0\n",
        "    )"
      ],
      "execution_count": 0,
      "outputs": []
    },
    {
      "cell_type": "code",
      "metadata": {
        "id": "9nLDHJNbCFvM",
        "colab_type": "code",
        "colab": {}
      },
      "source": [
        "from sklearn.metrics import roc_curve, auc, confusion_matrix, accuracy_score"
      ],
      "execution_count": 0,
      "outputs": []
    },
    {
      "cell_type": "code",
      "metadata": {
        "colab_type": "code",
        "outputId": "c6766655-c07b-4088-d441-0f9f96de7b00",
        "id": "YdnB6fiawwjo",
        "colab": {
          "base_uri": "https://localhost:8080/",
          "height": 1000
        }
      },
      "source": [
        "'''\n",
        "aucs = []\n",
        "for _ in range(1):\n",
        "  model = get_model('x')\n",
        "  model.fit(train_input,train_label)\n",
        "  fpr,tpr,_ = roc_curve(test_label,model.predict_proba(test_input)[:,1])\t\n",
        "  auc_score = auc(fpr, tpr)\n",
        "  aucs.append(auc_score)\n",
        "print(np.average(aucs))\n",
        "print(np.std(aucs))\n",
        "'''\n",
        "model = get_model('catboost')\n",
        "model.fit(train_input,train_label)\n",
        "fpr,tpr,_ = roc_curve(test_label,model.predict_proba(test_input)[:,1])\t\n",
        "auc_score = auc(fpr, tpr)\n",
        "plt.xlabel(\"Signal efficiency\", fontsize = 18, fontweight = 'bold')\n",
        "plt.ylabel(\"Background rejection\", fontsize = 18, fontweight = 'bold')\n",
        "plt.title(\"Catboost ROC Curve\", fontsize = 16, fontweight = 'bold')\n",
        "plt.xlim(0.0,1.0)\n",
        "plt.ylim(0.0,1.0)\n",
        "plt.grid(color='gray',linestyle='--',linewidth=1)\n",
        "plt.plot(tpr,1-fpr,'r--',label='Catboost, auc = %0.3f'%auc_score,linewidth = 2)\n",
        "plt.plot([0,1],[1,0],linestyle='--',color='black',label='Luck, auc = 0.5')\n",
        "plt.legend(loc='best')\n",
        "plt.savefig('catboost_roc.eps')"
      ],
      "execution_count": 64,
      "outputs": [
        {
          "output_type": "stream",
          "text": [
            "The PostScript backend does not support transparency; partially transparent artists will be rendered opaque.\n",
            "The PostScript backend does not support transparency; partially transparent artists will be rendered opaque.\n"
          ],
          "name": "stderr"
        },
        {
          "output_type": "stream",
          "text": [
            "0:\ttotal: 411us\tremaining: 40.7ms\n",
            "1:\ttotal: 853us\tremaining: 41.8ms\n",
            "2:\ttotal: 1.52ms\tremaining: 49ms\n",
            "3:\ttotal: 2.54ms\tremaining: 61ms\n",
            "4:\ttotal: 2.8ms\tremaining: 53.2ms\n",
            "5:\ttotal: 7.58ms\tremaining: 119ms\n",
            "6:\ttotal: 7.87ms\tremaining: 105ms\n",
            "7:\ttotal: 8.11ms\tremaining: 93.3ms\n",
            "8:\ttotal: 8.32ms\tremaining: 84.1ms\n",
            "9:\ttotal: 8.52ms\tremaining: 76.7ms\n",
            "10:\ttotal: 8.72ms\tremaining: 70.6ms\n",
            "11:\ttotal: 8.97ms\tremaining: 65.8ms\n",
            "12:\ttotal: 9.16ms\tremaining: 61.3ms\n",
            "13:\ttotal: 9.44ms\tremaining: 58ms\n",
            "14:\ttotal: 9.65ms\tremaining: 54.7ms\n",
            "15:\ttotal: 9.86ms\tremaining: 51.7ms\n",
            "16:\ttotal: 10.1ms\tremaining: 49.2ms\n",
            "17:\ttotal: 10.3ms\tremaining: 47ms\n",
            "18:\ttotal: 10.5ms\tremaining: 44.8ms\n",
            "19:\ttotal: 10.7ms\tremaining: 42.7ms\n",
            "20:\ttotal: 11ms\tremaining: 41.2ms\n",
            "21:\ttotal: 11.1ms\tremaining: 39.5ms\n",
            "22:\ttotal: 11.3ms\tremaining: 38ms\n",
            "23:\ttotal: 11.6ms\tremaining: 36.6ms\n",
            "24:\ttotal: 11.7ms\tremaining: 35.2ms\n",
            "25:\ttotal: 11.9ms\tremaining: 34ms\n",
            "26:\ttotal: 12.1ms\tremaining: 32.8ms\n",
            "27:\ttotal: 12.3ms\tremaining: 31.7ms\n",
            "28:\ttotal: 12.5ms\tremaining: 30.6ms\n",
            "29:\ttotal: 12.7ms\tremaining: 29.6ms\n",
            "30:\ttotal: 12.9ms\tremaining: 28.7ms\n",
            "31:\ttotal: 13.1ms\tremaining: 27.8ms\n",
            "32:\ttotal: 13.3ms\tremaining: 26.9ms\n",
            "33:\ttotal: 13.4ms\tremaining: 26.1ms\n",
            "34:\ttotal: 13.6ms\tremaining: 25.3ms\n",
            "35:\ttotal: 13.8ms\tremaining: 24.6ms\n",
            "36:\ttotal: 14ms\tremaining: 23.8ms\n",
            "37:\ttotal: 14.2ms\tremaining: 23.1ms\n",
            "38:\ttotal: 14.4ms\tremaining: 22.5ms\n",
            "39:\ttotal: 14.6ms\tremaining: 21.9ms\n",
            "40:\ttotal: 14.8ms\tremaining: 21.4ms\n",
            "41:\ttotal: 15ms\tremaining: 20.8ms\n",
            "42:\ttotal: 15.2ms\tremaining: 20.2ms\n",
            "43:\ttotal: 15.4ms\tremaining: 19.6ms\n",
            "44:\ttotal: 15.6ms\tremaining: 19.1ms\n",
            "45:\ttotal: 15.8ms\tremaining: 18.5ms\n",
            "46:\ttotal: 16ms\tremaining: 18ms\n",
            "47:\ttotal: 16.2ms\tremaining: 17.5ms\n",
            "48:\ttotal: 16.4ms\tremaining: 17.1ms\n",
            "49:\ttotal: 16.6ms\tremaining: 16.6ms\n",
            "50:\ttotal: 16.8ms\tremaining: 16.1ms\n",
            "51:\ttotal: 17ms\tremaining: 15.7ms\n",
            "52:\ttotal: 17.2ms\tremaining: 15.3ms\n",
            "53:\ttotal: 17.4ms\tremaining: 14.8ms\n",
            "54:\ttotal: 17.6ms\tremaining: 14.4ms\n",
            "55:\ttotal: 17.8ms\tremaining: 14ms\n",
            "56:\ttotal: 18ms\tremaining: 13.6ms\n",
            "57:\ttotal: 18.2ms\tremaining: 13.2ms\n",
            "58:\ttotal: 18.3ms\tremaining: 12.7ms\n",
            "59:\ttotal: 18.5ms\tremaining: 12.3ms\n",
            "60:\ttotal: 18.7ms\tremaining: 12ms\n",
            "61:\ttotal: 18.9ms\tremaining: 11.6ms\n",
            "62:\ttotal: 19.1ms\tremaining: 11.2ms\n",
            "63:\ttotal: 19.3ms\tremaining: 10.9ms\n",
            "64:\ttotal: 19.5ms\tremaining: 10.5ms\n",
            "65:\ttotal: 19.7ms\tremaining: 10.1ms\n",
            "66:\ttotal: 19.9ms\tremaining: 9.79ms\n",
            "67:\ttotal: 20.1ms\tremaining: 9.44ms\n",
            "68:\ttotal: 20.2ms\tremaining: 9.1ms\n",
            "69:\ttotal: 20.4ms\tremaining: 8.75ms\n",
            "70:\ttotal: 20.6ms\tremaining: 8.42ms\n",
            "71:\ttotal: 20.8ms\tremaining: 8.09ms\n",
            "72:\ttotal: 21ms\tremaining: 7.75ms\n",
            "73:\ttotal: 21.2ms\tremaining: 7.44ms\n",
            "74:\ttotal: 21.4ms\tremaining: 7.12ms\n",
            "75:\ttotal: 21.5ms\tremaining: 6.8ms\n",
            "76:\ttotal: 21.7ms\tremaining: 6.49ms\n",
            "77:\ttotal: 21.9ms\tremaining: 6.18ms\n",
            "78:\ttotal: 22.1ms\tremaining: 5.87ms\n",
            "79:\ttotal: 22.3ms\tremaining: 5.57ms\n",
            "80:\ttotal: 22.4ms\tremaining: 5.26ms\n",
            "81:\ttotal: 22.7ms\tremaining: 4.97ms\n",
            "82:\ttotal: 22.8ms\tremaining: 4.68ms\n",
            "83:\ttotal: 23.1ms\tremaining: 4.4ms\n",
            "84:\ttotal: 23.4ms\tremaining: 4.13ms\n",
            "85:\ttotal: 23.6ms\tremaining: 3.84ms\n",
            "86:\ttotal: 23.8ms\tremaining: 3.56ms\n",
            "87:\ttotal: 24ms\tremaining: 3.28ms\n",
            "88:\ttotal: 24.2ms\tremaining: 3ms\n",
            "89:\ttotal: 24.5ms\tremaining: 2.72ms\n",
            "90:\ttotal: 24.7ms\tremaining: 2.45ms\n",
            "91:\ttotal: 25ms\tremaining: 2.17ms\n",
            "92:\ttotal: 25.3ms\tremaining: 1.9ms\n",
            "93:\ttotal: 25.5ms\tremaining: 1.63ms\n",
            "94:\ttotal: 25.8ms\tremaining: 1.35ms\n",
            "95:\ttotal: 26ms\tremaining: 1.08ms\n",
            "96:\ttotal: 26.2ms\tremaining: 810us\n",
            "97:\ttotal: 26.4ms\tremaining: 538us\n",
            "98:\ttotal: 26.6ms\tremaining: 268us\n",
            "99:\ttotal: 26.8ms\tremaining: 0us\n"
          ],
          "name": "stdout"
        },
        {
          "output_type": "display_data",
          "data": {
            "image/png": "[encoded data removed]",
            "text/plain": [
              "<Figure size 432x288 with 1 Axes>"
            ]
          },
          "metadata": {
            "tags": []
          }
        }
      ]
    },
    {
      "cell_type": "code",
      "metadata": {
        "id": "HfjJwKppaGN8",
        "colab_type": "code",
        "outputId": "bb1caa41-67de-46b1-98b9-1999b65edcb5",
        "colab": {
          "base_uri": "https://localhost:8080/",
          "height": 301
        }
      },
      "source": [
        "from xgboost import plot_importance\n",
        "plt.clf()\n",
        "plt.bar(range(len(model.feature_importances_)), model.feature_importances_)\n",
        "plt.ylabel('Scores', fontsize=16)\n",
        "plt.xlabel('Features', fontsize=16)\n",
        "plt.title('Feature Importance', fontsize=14)\n",
        "plt.savefig('feature_importance.eps')"
      ],
      "execution_count": 0,
      "outputs": [
        {
          "output_type": "display_data",
          "data": {
            "image/png": "[encoded data removed]",
            "text/plain": [
              "<Figure size 432x288 with 1 Axes>"
            ]
          },
          "metadata": {
            "tags": []
          }
        }
      ]
    },
    {
      "cell_type": "code",
      "metadata": {
        "id": "cBSTkvWiaWag",
        "colab_type": "code",
        "colab": {}
      },
      "source": [
        ""
      ],
      "execution_count": 0,
      "outputs": []
    }
  ]
}